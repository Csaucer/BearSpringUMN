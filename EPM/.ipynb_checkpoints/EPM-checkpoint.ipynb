{
 "cells": [
  {
   "cell_type": "markdown",
   "id": "intense-council",
   "metadata": {},
   "source": [
    "# Bear Spring EPM (Equivalent Porous Media) Model\n",
    "\n",
    "Model started 10/14/24. Modeled after Langevin, C. 2024, UMN Hydrocamp  \n",
    "[Link to Reference Code](https://github.com/langevin-usgs/umn2024/tree/main)"
   ]
  },
  {
   "cell_type": "code",
   "execution_count": 2,
   "id": "usual-drove",
   "metadata": {},
   "outputs": [],
   "source": [
    "# import python packages\n",
    "import pathlib as pl\n",
    "import scipy.special\n",
    "import numpy as np\n",
    "import matplotlib.pyplot as plt\n",
    "from datetime import datetime\n",
    "import pandas as pd\n",
    "import flopy"
   ]
  },
  {
   "cell_type": "markdown",
   "id": "offensive-transaction",
   "metadata": {},
   "source": [
    "## Load External Data\n",
    "\n",
    "Import precipitation Data  \n",
    "Import Well Data  \n",
    "Import DEM Data\n",
    "Import DTW in Galena Well"
   ]
  },
  {
   "cell_type": "code",
   "execution_count": null,
   "id": "emotional-capacity",
   "metadata": {},
   "outputs": [],
   "source": [
    "#Import the precipitation data measured at the Galena Well\n"
   ]
  }
 ],
 "metadata": {
  "kernelspec": {
   "display_name": "Python (modflow6)",
   "language": "python",
   "name": "modflow6"
  },
  "language_info": {
   "codemirror_mode": {
    "name": "ipython",
    "version": 3
   },
   "file_extension": ".py",
   "mimetype": "text/x-python",
   "name": "python",
   "nbconvert_exporter": "python",
   "pygments_lexer": "ipython3",
   "version": "3.10.8"
  }
 },
 "nbformat": 4,
 "nbformat_minor": 5
}
