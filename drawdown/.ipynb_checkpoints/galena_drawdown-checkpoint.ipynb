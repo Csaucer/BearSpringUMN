{
 "cells": [
  {
   "cell_type": "code",
   "execution_count": 11,
   "id": "aging-minnesota",
   "metadata": {},
   "outputs": [],
   "source": [
    "import numpy as np\n",
    "import math as m\n",
    "import matplotlib.pyplot as plt\n",
    "from scipy.optimize import curve_fit\n",
    "import os\n",
    "import pandas as pd"
   ]
  },
  {
   "cell_type": "code",
   "execution_count": 18,
   "id": "suburban-pursuit",
   "metadata": {},
   "outputs": [
    {
     "data": {
      "text/plain": [
       "'/users/1/souce015/BearSpring/BearSpringUMN/drawdown'"
      ]
     },
     "execution_count": 18,
     "metadata": {},
     "output_type": "execute_result"
    }
   ],
   "source": [
    "os.chdir('drawdown')"
   ]
  },
  {
   "cell_type": "code",
   "execution_count": 32,
   "id": "saved-craft",
   "metadata": {},
   "outputs": [
    {
     "name": "stdout",
     "output_type": "stream",
     "text": [
      "   1.15278E-05  0.625\n",
      "0     0.000017  0.866\n",
      "1     0.000023  1.138\n",
      "2     0.000029  1.411\n",
      "3     0.000035  1.651\n",
      "4     0.000040  1.859\n"
     ]
    }
   ],
   "source": [
    "df = pd.read_csv('galena_drawdown.csv')\n",
    "df = df.dropna(how='all', axis=1)  # Remove completely empty columns\n",
    "df = df.dropna(how='all', axis=0)  # Remove completely empty rows\n",
    "\n",
    "print(df.head())  # Check the cleaned data\n",
    "\n",
    "df.to_csv('cleaned_galena_drawdown.csv', index=False)"
   ]
  },
  {
   "cell_type": "code",
   "execution_count": 61,
   "id": "assured-ribbon",
   "metadata": {},
   "outputs": [],
   "source": [
    "#From the pyTheis paper, 2021\n",
    "def wufunc(r,S,T,t):\n",
    "    u = (r**2)*S/(4*T*t)\n",
    "    Wu=-0.5772-np.log(u)+u\n",
    "    ntrm = 30\n",
    "    for i in range (2, ntrm+1):\n",
    "        sign = (-1)**(i-1)\n",
    "        factval = float(m.factorial(i))\n",
    "        Wu = Wu + sign*(u**i)/(i*factval)\n",
    "    return(Wu)\n",
    "    \n",
    "def myfunc(tt, T, S):\n",
    "    pi = 3.14\n",
    "    Q = 1199.22 #m3/d\n",
    "    r = 251.155 #m\n",
    "    nrow = len(tt)\n",
    "    n = nrow\n",
    "    drawdown=np.zeros((n),float)\n",
    "    for i in range (0,n):\n",
    "        Wu_val=wufunc(r,S,T,tt[i])\n",
    "        drawdown[i] = Q*Wu_val/(4*pi*T)\n",
    "    #End loop i\n",
    "    return (drawdown)\n",
    "\n",
    "def main():\n",
    "    indata = np.loadtxt(\"cleaned_galena_drawdown.csv\", delimiter=\",\")\n",
    "    Times = np.copy(indata[:,0]) # Time from first column\n",
    "    sobs = np.copy(indata[:,1]) # Drawdown from second column\n",
    "    init_vals = [1, 0.001] # for [T & S values]\n",
    "    best_vals, covar = curve_fit(myfunc, Times, sobs, p0=init_vals, bounds=([0.01, 0.000001], [100000, 0.1]), method = 'trf')\n",
    "    stdevs = np.sqrt(np.diag(covar))\n",
    "    plt.xscale('log')\n",
    "    plt.yscale('log')\n",
    "    print ('Best valus (T, S)')\n",
    "    print (best_vals)\n",
    "    print ('Covariance')\n",
    "    print (covar)\n",
    "    print ('standard deviation')\n",
    "    print (stdevs)\n",
    "    T = best_vals [0]\n",
    "    S = best_vals [1]\n",
    "    smodel=myfunc(Times,T,S)\n",
    "    plt.plot(Times,smodel)\n",
    "    plt.plot(Times, sobs, 'bo')\n",
    "    plt.xlabel(\"Time (day)\")\n",
    "    plt.ylabel(\"Drawdown (m)\")\n",
    "    plt.show()"
   ]
  }
 ],
 "metadata": {
  "kernelspec": {
   "display_name": "Python (modflow6)",
   "language": "python",
   "name": "modflow6"
  },
  "language_info": {
   "codemirror_mode": {
    "name": "ipython",
    "version": 3
   },
   "file_extension": ".py",
   "mimetype": "text/x-python",
   "name": "python",
   "nbconvert_exporter": "python",
   "pygments_lexer": "ipython3",
   "version": "3.10.8"
  }
 },
 "nbformat": 4,
 "nbformat_minor": 5
}
